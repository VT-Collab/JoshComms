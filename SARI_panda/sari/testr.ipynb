{
 "cells": [
  {
   "cell_type": "code",
   "execution_count": 1,
   "metadata": {},
   "outputs": [],
   "source": [
    "import pybullet as p\n",
    "import numpy as np"
   ]
  },
  {
   "cell_type": "code",
   "execution_count": 2,
   "metadata": {},
   "outputs": [],
   "source": [
    "\n",
    "def get_rotation_mat(euler):\n",
    "    \n",
    "    R_x = np.mat([[1, 0, 0],\n",
    "                  [0, np.cos(euler[0]), -np.sin(euler[0])],\n",
    "                  [0, np.sin(euler[0]), np.cos(euler[0])]])\n",
    "\n",
    "    R_y = np.mat([[np.cos(euler[1]), 0, np.sin(euler[1])],\n",
    "                  [0, 1, 0],\n",
    "                  [-np.sin(euler[1]), 0, np.cos(euler[1])]])\n",
    "\n",
    "    R_z = np.mat([[np.cos(euler[2]), -np.sin(euler[2]), 0],\n",
    "                  [np.sin(euler[2]), np.cos(euler[2]), 0],\n",
    "                  [0, 0, 1]])\n",
    "    R = R_x * R_y * R_z\n",
    "    #R = R_y\n",
    "    return R\n"
   ]
  },
  {
   "cell_type": "code",
   "execution_count": 3,
   "metadata": {},
   "outputs": [
    {
     "name": "stdout",
     "output_type": "stream",
     "text": [
      "[[ 1.          0.          0.        ]\n",
      " [ 0.          0.95533649 -0.29552021]\n",
      " [ 0.          0.29552021  0.95533649]]\n"
     ]
    }
   ],
   "source": [
    "test1 = [0.3, 0.0,0.0]\n",
    "test = get_rotation_mat(test1)\n",
    "print(test)"
   ]
  },
  {
   "cell_type": "code",
   "execution_count": 4,
   "metadata": {},
   "outputs": [
    {
     "name": "stdout",
     "output_type": "stream",
     "text": [
      "[-2.6075219024795286, -1.5865042900628457, -2.6075219024795286, -2.7646015351590183, -2.6075219024795286, -0.015707963267948967, -2.6075219024795286]\n",
      "[2.6075219024795286, 1.5865042900628457, 2.6075219024795286, -0.06283185307179587, 2.6075219024795286, 3.377212102609028, 2.6075219024795286]\n"
     ]
    }
   ],
   "source": [
    "limit_low = [-166.0,-101.0,-166.0,-176.0,-166.0,-1.0,-166.0]\n",
    "limit_low2 = [i * (.9*np.pi/180.0)  for i in limit_low]\n",
    "limit_high = [166.0,101.0,166.0,-4.0,166.0,215.0,166.0]\n",
    "limit_high2 = [i * (.9*np.pi/180.0)  for i in limit_high]\n",
    "print(limit_low2)\n",
    "print(limit_high2)\n",
    "#limit_low = [-2.6075219024795286, -1.5865042900628457, -2.6075219024795286, -2.7646015351590183, -2.6075219024795286, -0.015707963267948967, -2.6075219024795286]\n",
    "#limit_high = [2.6075219024795286, 1.5865042900628457, 2.6075219024795286, -0.06283185307179587, 2.6075219024795286, 3.377212102609028, 2.6075219024795286]"
   ]
  },
  {
   "cell_type": "code",
   "execution_count": 5,
   "metadata": {},
   "outputs": [
    {
     "ename": "AttributeError",
     "evalue": "module 'pybullet' has no attribute '__version__'",
     "output_type": "error",
     "traceback": [
      "\u001b[1;31m---------------------------------------------------------------------------\u001b[0m",
      "\u001b[1;31mAttributeError\u001b[0m                            Traceback (most recent call last)",
      "\u001b[1;32mc:\\Users\\Jhoegerm\\Desktop\\School\\Lab\\NewTests\\JoshComms\\SARI_panda\\sari\\testr.ipynb Cell 5\u001b[0m in \u001b[0;36m1\n\u001b[1;32m----> <a href='vscode-notebook-cell:/c%3A/Users/Jhoegerm/Desktop/School/Lab/NewTests/JoshComms/SARI_panda/sari/testr.ipynb#W4sZmlsZQ%3D%3D?line=0'>1</a>\u001b[0m \u001b[39mprint\u001b[39m(p\u001b[39m.\u001b[39;49m__version__)\n",
      "\u001b[1;31mAttributeError\u001b[0m: module 'pybullet' has no attribute '__version__'"
     ]
    }
   ],
   "source": [
    "print(p.__version__)"
   ]
  }
 ],
 "metadata": {
  "kernelspec": {
   "display_name": "Python 3",
   "language": "python",
   "name": "python3"
  },
  "language_info": {
   "codemirror_mode": {
    "name": "ipython",
    "version": 3
   },
   "file_extension": ".py",
   "mimetype": "text/x-python",
   "name": "python",
   "nbconvert_exporter": "python",
   "pygments_lexer": "ipython3",
   "version": "3.10.7"
  },
  "orig_nbformat": 4
 },
 "nbformat": 4,
 "nbformat_minor": 2
}
