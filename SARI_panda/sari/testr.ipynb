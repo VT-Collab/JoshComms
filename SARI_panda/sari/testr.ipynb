{
 "cells": [
  {
   "cell_type": "code",
   "execution_count": 25,
   "metadata": {},
   "outputs": [],
   "source": [
    "import numpy as np"
   ]
  },
  {
   "cell_type": "code",
   "execution_count": 26,
   "metadata": {},
   "outputs": [],
   "source": [
    "\n",
    "def get_rotation_mat(euler):\n",
    "    \n",
    "    R_x = np.mat([[1, 0, 0],\n",
    "                  [0, np.cos(euler[0]), -np.sin(euler[0])],\n",
    "                  [0, np.sin(euler[0]), np.cos(euler[0])]])\n",
    "\n",
    "    R_y = np.mat([[np.cos(euler[1]), 0, np.sin(euler[1])],\n",
    "                  [0, 1, 0],\n",
    "                  [-np.sin(euler[1]), 0, np.cos(euler[1])]])\n",
    "\n",
    "    R_z = np.mat([[np.cos(euler[2]), -np.sin(euler[2]), 0],\n",
    "                  [np.sin(euler[2]), np.cos(euler[2]), 0],\n",
    "                  [0, 0, 1]])\n",
    "    R = R_x * R_y * R_z\n",
    "    #R = R_y\n",
    "    return R\n"
   ]
  },
  {
   "cell_type": "code",
   "execution_count": 27,
   "metadata": {},
   "outputs": [
    {
     "name": "stdout",
     "output_type": "stream",
     "text": [
      "[[ 1.          0.          0.        ]\n",
      " [ 0.          0.95533649 -0.29552021]\n",
      " [ 0.          0.29552021  0.95533649]]\n"
     ]
    }
   ],
   "source": [
    "test1 = [0.3, 0.0,0.0]\n",
    "test = get_rotation_mat(test1)\n",
    "print(test)"
   ]
  },
  {
   "cell_type": "code",
   "execution_count": 30,
   "metadata": {},
   "outputs": [
    {
     "name": "stdout",
     "output_type": "stream",
     "text": [
      "[-2.6075219024795286, -1.5865042900628457, -2.6075219024795286, -2.7646015351590183, -2.6075219024795286, -0.015707963267948967, -2.6075219024795286]\n",
      "[2.6075219024795286, 1.5865042900628457, 2.6075219024795286, -0.06283185307179587, 2.6075219024795286, 3.377212102609028, 2.6075219024795286]\n"
     ]
    }
   ],
   "source": [
    "limit_low = [-166.0,-101.0,-166.0,-176.0,-166.0,-1.0,-166.0]\n",
    "limit_low2 = [i * (.9*np.pi/180.0)  for i in limit_low]\n",
    "limit_high = [166.0,101.0,166.0,-4.0,166.0,215.0,166.0]\n",
    "limit_high2 = [i * (.9*np.pi/180.0)  for i in limit_high]\n",
    "print(limit_low2)\n",
    "print(limit_high2)\n",
    "#limit_low = [-2.6075219024795286, -1.5865042900628457, -2.6075219024795286, -2.7646015351590183, -2.6075219024795286, -0.015707963267948967, -2.6075219024795286]\n",
    "#limit_high = [2.6075219024795286, 1.5865042900628457, 2.6075219024795286, -0.06283185307179587, 2.6075219024795286, 3.377212102609028, 2.6075219024795286]"
   ]
  }
 ],
 "metadata": {
  "kernelspec": {
   "display_name": "Python 3",
   "language": "python",
   "name": "python3"
  },
  "language_info": {
   "codemirror_mode": {
    "name": "ipython",
    "version": 3
   },
   "file_extension": ".py",
   "mimetype": "text/x-python",
   "name": "python",
   "nbconvert_exporter": "python",
   "pygments_lexer": "ipython3",
   "version": "3.10.7"
  },
  "orig_nbformat": 4
 },
 "nbformat": 4,
 "nbformat_minor": 2
}
